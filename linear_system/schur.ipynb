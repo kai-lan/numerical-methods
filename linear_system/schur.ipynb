{
 "cells": [
  {
   "cell_type": "markdown",
   "metadata": {},
   "source": [
    "The matrix given here is "
   ]
  },
  {
   "cell_type": "code",
   "execution_count": 156,
   "metadata": {},
   "outputs": [
    {
     "name": "stdout",
     "output_type": "stream",
     "text": [
      "[[25. -1.  3.  1.]\n",
      " [ 1. 23. -1.  5.]\n",
      " [ 3.  1. 25. -1.]\n",
      " [-1.  5.  1. 23.]]\n"
     ]
    }
   ],
   "source": [
    "import numpy as np\n",
    "\n",
    "A = np.array([[25., -1., 3., 1.], [1., 23., -1., 5.], [3., 1., 25., -1.], [-1., 5., 1., 23.]])\n",
    "print(A)"
   ]
  },
  {
   "cell_type": "markdown",
   "metadata": {},
   "source": [
    "First of all, we need to find an eigenvalue with its corresponding eigenvector:"
   ]
  },
  {
   "cell_type": "code",
   "execution_count": 182,
   "metadata": {},
   "outputs": [
    {
     "name": "stdout",
     "output_type": "stream",
     "text": [
      "The eigenvalues are  [28. 20. 20. 28.]\n",
      "The eigenvectors are \n",
      " [[ 0.70711  0.5      0.5     -0.13393]\n",
      " [ 0.       0.5      0.5      0.69431]\n",
      " [ 0.70711 -0.5     -0.5     -0.13393]\n",
      " [ 0.      -0.5     -0.5      0.69431]]\n",
      "The chosen eigenvalue is  (20+0j)\n",
      "The corrsponding eigenvector is  [ 0.5+0.j  0.5-0.j -0.5-0.j -0.5+0.j]\n"
     ]
    }
   ],
   "source": [
    "import scipy.linalg as lg\n",
    "\n",
    "# Return an eigenvalue and one of its eigenvectors\n",
    "def eigenval_eigenvec(A):\n",
    "    eigenvalues, eigenvectors = lg.eig(A)\n",
    "    value = eigenvalues[1]\n",
    "    print('The eigenvalues are ', np.round(eigenvalues.real,5))\n",
    "    print('The eigenvectors are \\n', np.round(eigenvectors.real,5))\n",
    "    vector = eigenvectors[:, 1]\n",
    "    return value, vector\n",
    "\n",
    "value, vector = eigenval_eigenvec(A)\n",
    "print('The chosen eigenvalue is ', np.round(value, 5))\n",
    "print('The corrsponding eigenvector is ', np.round(vector, 5))"
   ]
  },
  {
   "cell_type": "markdown",
   "metadata": {},
   "source": [
    "So the chosen eigenvalue is $20$, and the eigenvector is\n",
    "\\begin{equation}\n",
    "\\begin{bmatrix}\n",
    "0.5 & 0.5 & -0.5 & -0.5\n",
    "\\end{bmatrix}^T.\n",
    "\\end{equation}\n",
    "Next let us extend the eigenvector to an orthogonal basis, but we find a general basis first:"
   ]
  },
  {
   "cell_type": "code",
   "execution_count": 77,
   "metadata": {},
   "outputs": [
    {
     "name": "stdout",
     "output_type": "stream",
     "text": [
      "The extended basis is \n",
      " [[ 0.5+0.j -0.5+0.j  0. +0.j  0. +0.j]\n",
      " [ 0.5-0.j  0. +0.j -0.5+0.j  0. +0.j]\n",
      " [-0.5-0.j  0. +0.j  0. +0.j -0.5+0.j]\n",
      " [-0.5+0.j -0.5-0.j -0.5+0.j  0.5+0.j]]\n"
     ]
    }
   ],
   "source": [
    "# Extend a vector to a basis\n",
    "def extended_basis(vector): \n",
    "    n = len(vector)\n",
    "    space = []\n",
    "    space.append(vector)\n",
    "    for i in range(n - 1):\n",
    "        arr = []\n",
    "        for j in range(i):\n",
    "            arr.append(0)\n",
    "        arr.append(vector[n-1])\n",
    "        for j in range(i + 1, n - 1):\n",
    "            arr.append(0)\n",
    "        arr.append(-vector[i])\n",
    "        space.append(arr)\n",
    "    space = np.transpose(np.array(space))\n",
    "    return space\n",
    "\n",
    "basis = entended_basis(vector)\n",
    "print('The extended basis is \\n', np.round(basis, 5))"
   ]
  },
  {
   "cell_type": "markdown",
   "metadata": {},
   "source": [
    "So the genetal basis we got is\n",
    "\\begin{bmatrix}\n",
    "0.5 & -0.5 & 0 & 0\\\\\n",
    "0.5&0&-0.5&0\\\\\n",
    "-0.5 & 0 & 0 & -0.5\\\\\n",
    "-0.5 & -0.5 & -0.5 & 0.5\n",
    "\\end{bmatrix}"
   ]
  },
  {
   "cell_type": "markdown",
   "metadata": {},
   "source": [
    "We find the orthogonal basis by Gram-Schmidt algorithm:"
   ]
  },
  {
   "cell_type": "code",
   "execution_count": 196,
   "metadata": {},
   "outputs": [
    {
     "name": "stdout",
     "output_type": "stream",
     "text": [
      "[[ 0.5    +0.j -0.70711+0.j  0.40825+0.j -0.28868-0.j]\n",
      " [ 0.5    -0.j  0.     -0.j -0.8165 -0.j -0.28868-0.j]\n",
      " [-0.5    -0.j -0.     +0.j -0.     -0.j -0.86603+0.j]\n",
      " [-0.5    +0.j -0.70711-0.j -0.40825+0.j  0.28868+0.j]]\n"
     ]
    }
   ],
   "source": [
    "# find the L2 norm of the given vector\n",
    "def _l2_norm(v):\n",
    "    sum_ = 0\n",
    "    for entry in v:\n",
    "        sum_ += entry ** 2\n",
    "    return np.sqrt(sum_)\n",
    "\n",
    "# Apply gram schmidt to make a basis orthogonal\n",
    "def gram_schmidt(basis):\n",
    "    n = len(basis)\n",
    "    for i in range(1, n):\n",
    "        u = basis[:, i]\n",
    "        for j in range(0, i):\n",
    "            ######################################################\n",
    "            # Change np.dot() to np.vdot() for complex dot product\n",
    "            ######################################################\n",
    "            u -= np.dot(u, basis[:, j]) * basis[:, j]\n",
    "        u = u / _l2_norm(u)\n",
    "        basis[:, i] = u\n",
    "    return basis\n",
    "    \n",
    "ortho_basis = gram_schmidt(basis)\n",
    "print(np.round(ortho_basis, 5))"
   ]
  },
  {
   "cell_type": "markdown",
   "metadata": {},
   "source": [
    "Thus, the orthogonal basis we found is\n",
    "\\begin{bmatrix}\n",
    "0.5 & -0.70711 & 0.40825 & -0.28868\\\\\n",
    "0.5 & 0 & -0.8165 & -0.28868\\\\\n",
    "-0.5 & 0 & 0 & -0.86603\\\\\n",
    "-0.5 & -0.70711 & -0.40825 & 0.28868\\\\\n",
    "\\end{bmatrix}"
   ]
  },
  {
   "cell_type": "markdown",
   "metadata": {},
   "source": [
    "Denote the orthogonal basis as $I_1$, then we need to compute $I_1^{-1}$. Since it is orthogonal, we just need to find its transpose. Then we can find $I_1^*A I_1$:"
   ]
  },
  {
   "cell_type": "code",
   "execution_count": 138,
   "metadata": {},
   "outputs": [
    {
     "name": "stdout",
     "output_type": "stream",
     "text": [
      "[[20.     -0.j -2.82843+0.j  1.63299+0.j  2.3094 -0.j]\n",
      " [ 0.     +0.j 24.     -0.j  2.3094 +0.j  3.26599-0.j]\n",
      " [ 0.     -0.j  2.3094 +0.j 26.66667-0.j -1.88562-0.j]\n",
      " [ 0.     -0.j  3.26599-0.j -1.88562-0.j 25.33333+0.j]]\n"
     ]
    }
   ],
   "source": [
    "def multiply(I, A):\n",
    "    ######################################################\n",
    "    # Change np.dot() to np.vdot() for complex dot product\n",
    "    ######################################################\n",
    "    A1 = np.transpose(I).dot(A).dot(I)\n",
    "    I1 = I\n",
    "    return A1\n",
    "\n",
    "A1 = multiply(ortho_basis, A)\n",
    "print(np.round(A1, 5))"
   ]
  },
  {
   "cell_type": "markdown",
   "metadata": {},
   "source": [
    "So we got $A_1$ as above. Then we can take the submatrix, and repeat the process to get $A_2$ and $I_2$. For our convenience, let us put together the functions we have defined, and compute the whole way through:"
   ]
  },
  {
   "cell_type": "code",
   "execution_count": 198,
   "metadata": {},
   "outputs": [
    {
     "name": "stdout",
     "output_type": "stream",
     "text": [
      "Schur decomposition on \n",
      " [[25. -1.  3.  1.]\n",
      " [ 1. 23. -1.  5.]\n",
      " [ 3.  1. 25. -1.]\n",
      " [-1.  5.  1. 23.]]\n",
      "\n",
      "\n",
      "Step 0\n",
      "The eigenvalues are  [28. 20. 20. 28.]\n",
      "The eigenvectors are \n",
      " [[ 0.70711  0.5      0.5     -0.13393]\n",
      " [ 0.       0.5      0.5      0.69431]\n",
      " [ 0.70711 -0.5     -0.5     -0.13393]\n",
      " [ 0.      -0.5     -0.5      0.69431]]\n",
      "\n",
      "The chosen eigenvector is  [ 0.5  0.5 -0.5 -0.5]\n",
      "\n",
      "I 0  = \n",
      " [[ 0.5     -0.70711  0.40825 -0.28868]\n",
      " [ 0.5      0.      -0.8165  -0.28868]\n",
      " [-0.5      0.       0.      -0.86603]\n",
      " [-0.5     -0.70711 -0.40825  0.28868]]\n",
      "\n",
      "A 0  = \n",
      " [[20.      -2.82843  1.63299  2.3094 ]\n",
      " [ 0.      24.       2.3094   3.26599]\n",
      " [ 0.       2.3094  26.66667 -1.88562]\n",
      " [-0.       3.26599 -1.88562 25.33333]]\n",
      "\n",
      "\n",
      "Step  1\n",
      "\n",
      "The submatrix is \n",
      " [[24.       2.3094   3.26599]\n",
      " [ 2.3094  26.66667 -1.88562]\n",
      " [ 3.26599 -1.88562 25.33333]]\n",
      "\n",
      "The eigenvalues are  [20. 28. 28.]\n",
      "The eigenvectors are \n",
      " [[-0.70711  0.70711 -0.26491]\n",
      " [ 0.40825  0.40825 -0.90998]\n",
      " [ 0.57735  0.57735  0.31901]]\n",
      "\n",
      "The chosen eigenvector is  [0.70711 0.40825 0.57735]\n",
      "\n",
      "I 1  = \n",
      " [[ 1.       0.       0.       0.     ]\n",
      " [ 0.       0.70711  0.63246 -0.31623]\n",
      " [ 0.       0.40825  0.       0.91287]\n",
      " [ 0.       0.57735 -0.7746  -0.2582 ]]\n",
      "\n",
      "A 1  = \n",
      " [[20.       0.      -3.57771  1.78885]\n",
      " [ 0.      28.       0.      -0.     ]\n",
      " [ 0.       0.      21.6      3.2    ]\n",
      " [ 0.      -0.       3.2     26.4    ]]\n",
      "\n",
      "\n",
      "Step  2\n",
      "\n",
      "The submatrix is \n",
      " [[21.6  3.2]\n",
      " [ 3.2 26.4]]\n",
      "\n",
      "The eigenvalues are  [20. 28.]\n",
      "The eigenvectors are \n",
      " [[-0.89443 -0.44721]\n",
      " [ 0.44721 -0.89443]]\n",
      "\n",
      "The chosen eigenvector is  [-0.44721 -0.89443]\n",
      "\n",
      "I 2  = \n",
      " [[ 1.       0.       0.       0.     ]\n",
      " [ 0.       1.       0.       0.     ]\n",
      " [ 0.       0.      -0.44721 -0.89443]\n",
      " [ 0.       0.      -0.89443  0.44721]]\n",
      "\n",
      "A 2  = \n",
      " [[20.  0. -0.  4.]\n",
      " [ 0. 28.  0. -0.]\n",
      " [-0.  0. 28. -0.]\n",
      " [-0. -0.  0. 20.]]\n",
      "\n",
      "\n",
      "Result\n",
      "\n",
      "The resulting upper triangular matrix T = \n",
      " [[20.  0. -0.  4.]\n",
      " [ 0. 28.  0. -0.]\n",
      " [-0.  0. 28. -0.]\n",
      " [-0. -0.  0. 20.]]\n",
      "\n",
      "Q = \n",
      " [[ 0.5 -0.5 -0.5  0.5]\n",
      " [ 0.5 -0.5  0.5 -0.5]\n",
      " [-0.5 -0.5 -0.5 -0.5]\n",
      " [-0.5 -0.5  0.5  0.5]]\n",
      "\n",
      "Q T Q^T = \n",
      " [[25. -1.  3.  1.]\n",
      " [ 1. 23. -1.  5.]\n",
      " [ 3.  1. 25. -1.]\n",
      " [-1.  5.  1. 23.]]\n"
     ]
    }
   ],
   "source": [
    "# Apply Schur algorithm to triangularize a given real matrix A\n",
    "# Can be modified slightly for complex matrix\n",
    "# Delete all the print() function in the schur function if process need not be shown\n",
    "# 5 digits precision is displayed\n",
    "def schur(A):\n",
    "    print('Schur decomposition on \\n', A)\n",
    "    print('\\n\\nStep 0')\n",
    "    n = len(A)\n",
    "    value, vector = eigenval_eigenvec(A)\n",
    "    # Due to finite precision computing, there might be negligibly small funny imaginary part\n",
    "    # Delete the next two lines if your matrix might have complex eigenvalues\n",
    "    value = value.real\n",
    "    vector = vector.real\n",
    "    print('\\nThe chosen eigenvector is ', np.round(vector, 5)) # change 5 to any number of decimal precision\n",
    "    basis = extended_basis(vector)\n",
    "    I1 = gram_schmidt(basis)\n",
    "    print('\\nI', 0, ' = \\n', np.round(I1, 5))\n",
    "    A1 = multiply(basis, A)\n",
    "    print('\\nA', 0, ' = \\n', np.round(A1, 5))\n",
    "    \n",
    "    #Repeat the process\n",
    "    for i in range(1, n - 1):\n",
    "        print('\\n\\nStep ', i)\n",
    "        B = np.zeros((n - i, n - i))\n",
    "        for j in range(len(B)):\n",
    "            B[j, :] = A1[j + i, i : n]\n",
    "            \n",
    "        print('\\nThe submatrix is \\n', np.round(B, 5))\n",
    "        print()\n",
    "        \n",
    "        value, vector = eigenval_eigenvec(B)\n",
    "        value = value.real\n",
    "        vector = vector.real\n",
    "        print('\\nThe chosen eigenvector is ', np.round(vector, 5))\n",
    "        I = extended_basis(vector)\n",
    "        I = gram_schmidt(I)\n",
    "        \n",
    "        I2 = np.zeros((n, n))\n",
    "        for j in range(i):\n",
    "            I2[j][j] = 1\n",
    "        for j in range(i, n):\n",
    "            I2[j, i: n] = I[j - i, :]\n",
    "        \n",
    "        print('\\nI', i, ' = \\n', np.round(I2, 5))\n",
    "        \n",
    "        A1 = multiply(I2, A1)\n",
    "        I1 = I1.dot(I2)\n",
    "        print('\\nA', i, ' = \\n', np.round(A1, 5))\n",
    "\n",
    "    return A1, I1\n",
    "\n",
    "#C = [[-4, 2, 0, 12], [-1, 4, 0, 1], [-1, 0, 8, 2], [-6, 1, 0, 14]]\n",
    "E = [[21.6, 3.2], [3.2, 26.4]]\n",
    "T, Q = schur(A)\n",
    "print('\\n\\nResult\\n')\n",
    "print('The resulting upper triangular matrix T = \\n', np.round(T, 5))\n",
    "print('\\nQ = \\n', np.round(I1, 5))\n",
    "print('\\nQ T Q^T = \\n', np.round(I1.dot(A1).dot(np.transpose(Q)), 5))"
   ]
  },
  {
   "cell_type": "markdown",
   "metadata": {},
   "source": [
    "We can check that $Q$ we got is indeed orthogonal by takeing its transpose and multiply together."
   ]
  },
  {
   "cell_type": "code",
   "execution_count": 204,
   "metadata": {},
   "outputs": [
    {
     "name": "stdout",
     "output_type": "stream",
     "text": [
      "(Q^T)Q \n",
      "= [[ 0.5  0.5 -0.5 -0.5]\n",
      " [-0.5 -0.5 -0.5 -0.5]\n",
      " [-0.5  0.5 -0.5  0.5]\n",
      " [ 0.5 -0.5 -0.5  0.5]] [[ 0.5 -0.5 -0.5  0.5]\n",
      " [ 0.5 -0.5  0.5 -0.5]\n",
      " [-0.5 -0.5 -0.5 -0.5]\n",
      " [-0.5 -0.5  0.5  0.5]] \n",
      "= [[ 1.  0.  0. -0.]\n",
      " [ 0.  1.  0. -0.]\n",
      " [ 0.  0.  1.  0.]\n",
      " [-0. -0.  0.  1.]]\n"
     ]
    }
   ],
   "source": [
    "print('(Q^T)Q \\n=', np.transpose(Q), Q, '\\n=', np.round(np.transpose(Q).dot(Q), 5))"
   ]
  }
 ],
 "metadata": {
  "kernelspec": {
   "display_name": "Python 3",
   "language": "python",
   "name": "python3"
  },
  "language_info": {
   "codemirror_mode": {
    "name": "ipython",
    "version": 3
   },
   "file_extension": ".py",
   "mimetype": "text/x-python",
   "name": "python",
   "nbconvert_exporter": "python",
   "pygments_lexer": "ipython3",
   "version": "3.8.1"
  }
 },
 "nbformat": 4,
 "nbformat_minor": 4
}
